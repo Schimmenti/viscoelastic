{
 "metadata": {
  "language_info": {
   "codemirror_mode": {
    "name": "ipython",
    "version": 3
   },
   "file_extension": ".py",
   "mimetype": "text/x-python",
   "name": "python",
   "nbconvert_exporter": "python",
   "pygments_lexer": "ipython3",
   "version": "3.8.5"
  },
  "orig_nbformat": 2,
  "kernelspec": {
   "name": "python385jvsc74a57bd07faf8a2457e651579555cbfebe7241bab8fdedc77581d62fea3d97e4d9f80324",
   "display_name": "Python 3.8.5 64-bit ('base': conda)"
  }
 },
 "nbformat": 4,
 "nbformat_minor": 2,
 "cells": [
  {
   "cell_type": "code",
   "execution_count": 1,
   "metadata": {},
   "outputs": [],
   "source": [
    "import numpy as np\n",
    "import matplotlib.pyplot as plt\n",
    "import pandas as pd\n",
    "\n",
    "import os\n",
    "from numba import jit\n",
    "import scipy\n",
    "import scipy.stats as stats\n",
    "import argparse\n",
    "def bin_log(data, bins=50):\n",
    "    if(type(bins) is int):\n",
    "        binning = np.logspace(0,np.log10(np.max(data)), bins)\n",
    "    else:\n",
    "        binning = bins\n",
    "    hist, edges = np.histogram(data,bins=binning, density=True)\n",
    "    mask = hist > 0\n",
    "    hist = hist[mask]\n",
    "    edges = ((edges[0:-1]+edges[1:])*0.5)[mask]\n",
    "    return hist, edges, binning\n",
    "def load_params(filename):\n",
    "    pdcit = {}\n",
    "    f = open(filename)\n",
    "    for l in f.readlines():\n",
    "        a,b = l.split('=')\n",
    "        pdcit[a] = float(b)\n",
    "    return pdcit"
   ]
  },
  {
   "cell_type": "code",
   "execution_count": 2,
   "metadata": {},
   "outputs": [],
   "source": [
    "folder = \"vdep_3362809398136477573/\""
   ]
  },
  {
   "cell_type": "code",
   "execution_count": 10,
   "metadata": {},
   "outputs": [
    {
     "output_type": "stream",
     "name": "stdout",
     "text": [
      "{'Lx': 512, 'Ly': 512, 'k0': 0.06, 'k1': 0.0, 'k2': 1.0, 'dh': 0.1, 'f1': 1.0, 'f2': 1.0}\nLoading...\n"
     ]
    }
   ],
   "source": [
    "pms = load_params(folder + 'params.txt')\n",
    "pms['Lx'] = int(pms['Lx'])\n",
    "pms['Ly'] = int(pms['Ly'])\n",
    "print(pms)\n",
    "print('Loading...')\n",
    "#df = pd.read_csv(folder + 'data.txt', sep=' ')\n",
    "#data = df.values\n",
    "data = np.loadtxt(folder + 'data.txt' , delimiter=' ', skiprows=1)\n",
    "seq_data = np.loadtxt(folder + 'a_seq.txt' , delimiter=' ', skiprows=1)"
   ]
  },
  {
   "cell_type": "code",
   "execution_count": 11,
   "metadata": {},
   "outputs": [
    {
     "output_type": "stream",
     "name": "stdout",
     "text": [
      "Filtering (area)...\n"
     ]
    }
   ],
   "source": [
    "print('Filtering (area)...')\n",
    "max_n_events = 2000\n",
    "\n",
    "#save all events with at least area min_area\n",
    "min_area = 100\n",
    "valid_indices = np.argwhere(np.logical_and(data[:,2] >= min_area, data[:,3]==1)).flatten()\n",
    "np.savetxt( 'events_to_save_area.txt', valid_indices[:max_n_events], fmt='%i')"
   ]
  },
  {
   "cell_type": "code",
   "execution_count": 12,
   "metadata": {},
   "outputs": [
    {
     "output_type": "stream",
     "name": "stdout",
     "text": [
      "Filtering (seq)...\n"
     ]
    }
   ],
   "source": [
    "print('Filtering (seq)...')\n",
    "\n",
    "min_length = 50\n",
    "max_length = 1000\n",
    "mainshock_idxs = np.argwhere(data[:,3]==0).flatten()\n",
    "lengths = np.diff(mainshock_idxs)\n",
    "mask_for_ms = np.argwhere(np.logical_and(lengths >= min_length, lengths <= max_length)).flatten()\n",
    "good_ms = mainshock_idxs[mask_for_ms]\n",
    "good_lens = lengths[mask_for_ms]"
   ]
  },
  {
   "cell_type": "code",
   "execution_count": 13,
   "metadata": {},
   "outputs": [],
   "source": [
    "#good_events = [ data[idx:idx+ln] for idx, ln in zip(good_ms, good_lens) ]"
   ]
  },
  {
   "cell_type": "code",
   "execution_count": 14,
   "metadata": {},
   "outputs": [],
   "source": [
    "np.savetxt( 'events_to_save_seq.txt', np.concatenate([ np.arange(idx,idx+ln) for idx, ln in zip(good_ms, good_lens) ]).astype('int')[:max_n_events], fmt='%i')"
   ]
  }
 ]
}